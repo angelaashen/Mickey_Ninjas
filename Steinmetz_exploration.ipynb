{
 "cells": [
  {
   "cell_type": "markdown",
   "metadata": {
    "colab_type": "text",
    "id": "view-in-github"
   },
   "source": [
    "<a href=\"https://colab.research.google.com/github/ronandenyer/Mickey_Ninjas/blob/Time_Windows/Steinmetz_exploration.ipynb\" target=\"_parent\"><img src=\"https://colab.research.google.com/assets/colab-badge.svg\" alt=\"Open In Colab\"/></a>"
   ]
  },
  {
   "cell_type": "markdown",
   "metadata": {
    "id": "bEqdz1ZUMaj1"
   },
   "source": [
    "# Loading Steinmetz SPIKING data"
   ]
  },
  {
   "cell_type": "code",
   "execution_count": null,
   "metadata": {
    "cellView": "form",
    "id": "TLWjKq8bLDqm"
   },
   "outputs": [],
   "source": [
    "#@title Data retrieval\n",
    "import os, requests\n",
    "\n",
    "fname = []\n",
    "for j in range(3):\n",
    "  fname.append('steinmetz_part%d.npz'%j)\n",
    "url = [\"https://osf.io/agvxh/download\"]\n",
    "url.append(\"https://osf.io/uv3mw/download\")\n",
    "url.append(\"https://osf.io/ehmw2/download\")\n",
    "\n",
    "for j in range(len(url)):\n",
    "  if not os.path.isfile(fname[j]):\n",
    "    try:\n",
    "      r = requests.get(url[j])\n",
    "    except requests.ConnectionError:\n",
    "      print(\"!!! Failed to download data !!!\")\n",
    "    else:\n",
    "      if r.status_code != requests.codes.ok:\n",
    "        print(\"!!! Failed to download data !!!\")\n",
    "      else:\n",
    "        with open(fname[j], \"wb\") as fid:\n",
    "          fid.write(r.content)\n"
   ]
  },
  {
   "cell_type": "code",
   "execution_count": null,
   "metadata": {
    "id": "raBVOEWgUK_B"
   },
   "outputs": [],
   "source": [
    "#@title Import matplotlib and set defaults\n",
    "from matplotlib import rcParams \n",
    "from matplotlib import pyplot as plt\n",
    "\n",
    "rcParams['figure.figsize'] = [20, 4]\n",
    "rcParams['font.size'] =15\n",
    "rcParams['axes.spines.top'] = False\n",
    "rcParams['axes.spines.right'] = False\n",
    "rcParams['figure.autolayout'] = True"
   ]
  },
  {
   "cell_type": "code",
   "execution_count": null,
   "metadata": {
    "id": "sffzC_hyLgWZ"
   },
   "outputs": [],
   "source": [
    "#@title Data loading\n",
    "import numpy as np\n",
    "\n",
    "alldat = np.array([])\n",
    "for j in range(len(fname)):\n",
    "  alldat = np.hstack((alldat, np.load('steinmetz_part%d.npz'%j, allow_pickle=True)['dat']))"
   ]
  },
  {
   "cell_type": "markdown",
   "metadata": {
    "id": "5K7UT7dyj_6R"
   },
   "source": [
    "`alldat` contains 39 sessions from 10 mice, data from Steinmetz et al, 2019. Time bins for all measurements are 10ms, starting 500ms before stimulus onset. The mouse had to determine which side has the highest contrast. For each `dat = alldat[k]`, you have the fields below. For extra variables, check out the extra notebook and extra data files (lfp, waveforms and exact spike times, non-binned). \n",
    "\n",
    "* `dat['mouse_name']`: mouse name\n",
    "* `dat['date_exp']`: when a session was performed\n",
    "* `dat['spks']`: neurons by trials by time bins.    \n",
    "* `dat['brain_area']`: brain area for each neuron recorded. \n",
    "* `dat['ccf']`: Allen Institute brain atlas coordinates for each neuron. \n",
    "* `dat['ccf_axes']`: axes names for the Allen CCF. \n",
    "* `dat['contrast_right']`: contrast level for the right stimulus, which is always contralateral to the recorded brain areas.\n",
    "* `dat['contrast_left']`: contrast level for left stimulus. \n",
    "* `dat['gocue']`: when the go cue sound was played. \n",
    "* `dat['response_time']`: when the response was registered, which has to be after the go cue. The mouse can turn the wheel before the go cue (and nearly always does!), but the stimulus on the screen won't move before the go cue.  \n",
    "* `dat['response']`: which side the response was (`-1`, `0`, `1`). When the right-side stimulus had higher contrast, the correct choice was `-1`. `0` is a no go response. \n",
    "* `dat['feedback_time']`: when feedback was provided. \n",
    "* `dat['feedback_type']`: if the feedback was positive (`+1`, reward) or negative (`-1`, white noise burst).  \n",
    "* `dat['wheel']`: turning speed of the wheel that the mice uses to make a response, sampled at `10ms`. \n",
    "* `dat['pupil']`: pupil area  (noisy, because pupil is very small) + pupil horizontal and vertical position.\n",
    "* `dat['face']`: average face motion energy from a video camera. \n",
    "* `dat['licks']`: lick detections, 0 or 1.   \n",
    "* `dat['trough_to_peak']`: measures the width of the action potential waveform for each neuron. Widths `<=10` samples are \"putative fast spiking neurons\". \n",
    "* `dat['%X%_passive']`: same as above for `X` = {`spks`, `pupil`, `wheel`, `contrast_left`, `contrast_right`} but for  passive trials at the end of the recording when the mouse was no longer engaged and stopped making responses. \n",
    "* `dat['prev_reward']`: time of the feedback (reward/white noise) on the previous trial in relation to the current stimulus time. \n",
    "* `dat['reaction_time']`: ntrials by 2. First column: reaction time computed from the wheel movement as the first sample above `5` ticks/10ms bin. Second column: direction of the wheel movement (`0` = no move detected).  \n",
    "\n",
    "\n"
   ]
  },
  {
   "cell_type": "markdown",
   "metadata": {
    "id": "QjKVd-U7fEqa"
   },
   "source": [
    "# Loading Steinmetz LFP data"
   ]
  },
  {
   "cell_type": "code",
   "execution_count": null,
   "metadata": {
    "cellView": "form",
    "id": "OWiu07vvfNDZ"
   },
   "outputs": [],
   "source": [
    "#@title Data retrieval\n",
    "import os, requests\n",
    "\n",
    "fname = ['steinmetz_st.npz']\n",
    "fname.append('steinmetz_wav.npz')\n",
    "fname.append('steinmetz_lfp.npz')\n",
    "\n",
    "url = [\"https://osf.io/4bjns/download\"]\n",
    "url.append(\"https://osf.io/ugm9v/download\")\n",
    "url.append(\"https://osf.io/kx3v9/download\")\n",
    "\n",
    "for j in range(len(url)):\n",
    "  if not os.path.isfile(fname[j]):\n",
    "    try:\n",
    "      r = requests.get(url[j])\n",
    "    except requests.ConnectionError:\n",
    "      print(\"!!! Failed to download data !!!\")\n",
    "    else:\n",
    "      if r.status_code != requests.codes.ok:\n",
    "        print(\"!!! Failed to download data !!!\")\n",
    "      else:\n",
    "        with open(fname[j], \"wb\") as fid:\n",
    "          fid.write(r.content)\n"
   ]
  },
  {
   "cell_type": "code",
   "execution_count": null,
   "metadata": {
    "cellView": "form",
    "id": "XQ2pf-VEfQdq"
   },
   "outputs": [],
   "source": [
    "#@title Data loading\n",
    "import numpy as np\n",
    "\n",
    "dat_LFP = np.load('steinmetz_lfp.npz', allow_pickle=True)['dat']\n",
    "dat_WAV = np.load('steinmetz_wav.npz', allow_pickle=True)['dat']\n",
    "dat_ST = np.load('steinmetz_st.npz', allow_pickle=True)['dat']\n",
    "\n",
    "\n",
    "# select just one of the recordings here. 11 is nice because it has some neurons in vis ctx. \n",
    "dat = dat_LFP[11]\n",
    "print(dat.keys())\n",
    "dat = dat_WAV[11]\n",
    "print(dat.keys())\n",
    "dat = dat_ST[11]\n",
    "print(dat.keys())"
   ]
  },
  {
   "cell_type": "markdown",
   "metadata": {
    "id": "HiGLa62TfT5v"
   },
   "source": [
    "`dat_LFP`, `dat_WAV`, `dat_ST` contain 39 sessions from 10 mice, data from Steinmetz et al, 2019, supplemental to the main data provided for NMA. Time bins for all measurements are 10ms, starting 500ms before stimulus onset (same as the main data). The followin fields are available across the three supplemental files. \n",
    "\n",
    "* `dat['lfp']`: recording of the local field potential in each brain area from this experiment, binned at `10ms`.\n",
    "* `dat['brain_area_lfp']`: brain area names for the LFP channels. \n",
    "* `dat['trough_to_peak']`: measures the width of the action potential waveform for each neuron. Widths `<=10` samples are \"putative fast spiking neurons\". \n",
    "* `dat['waveform_w']`: temporal components of spike waveforms. `w@u` reconstructs the time by channels action potential shape. \n",
    "* `dat['waveform_u]`: spatial components of spike waveforms.\n",
    "* `dat['ss']`: neurons by trials. Exact spikes times for each neuron and each trial, reference to the stimulus onset. A (neuron,trial) entry can be an empty list if that neuron did not fire at all on that trial. \n",
    "* `dat['%X%_passive']`: same as above for `X` = {`lfp`, `ss`} but for  passive trials at the end of the recording when the mouse was no longer engaged and stopped making responses. \n",
    "\n",
    "\n"
   ]
  },
  {
   "cell_type": "markdown",
   "metadata": {
    "id": "NDJuBC-SnbLy"
   },
   "source": [
    "# Exploration playground (anyone)"
   ]
  },
  {
   "cell_type": "code",
   "execution_count": null,
   "metadata": {
    "colab": {
     "base_uri": "https://localhost:8080/",
     "height": 243
    },
    "id": "QZ2klHTioLMo",
    "outputId": "c57f5b77-a518-48f0-bbd7-6fde1b4cd635"
   },
   "outputs": [
    {
     "ename": "NameError",
     "evalue": "ignored",
     "output_type": "error",
     "traceback": [
      "\u001b[0;31m---------------------------------------------------------------------------\u001b[0m",
      "\u001b[0;31mNameError\u001b[0m                                 Traceback (most recent call last)",
      "\u001b[0;32m<ipython-input-24-a6f7822140d9>\u001b[0m in \u001b[0;36m<module>\u001b[0;34m()\u001b[0m\n\u001b[1;32m      1\u001b[0m \u001b[0;32mimport\u001b[0m \u001b[0mmatplotlib\u001b[0m\u001b[0;34m.\u001b[0m\u001b[0mpyplot\u001b[0m \u001b[0;32mas\u001b[0m \u001b[0mplt\u001b[0m\u001b[0;34m\u001b[0m\u001b[0;34m\u001b[0m\u001b[0m\n\u001b[1;32m      2\u001b[0m \u001b[0;34m\u001b[0m\u001b[0m\n\u001b[0;32m----> 3\u001b[0;31m \u001b[0;32mfor\u001b[0m \u001b[0marea\u001b[0m \u001b[0;32min\u001b[0m \u001b[0mrange\u001b[0m\u001b[0;34m(\u001b[0m\u001b[0mlen\u001b[0m\u001b[0;34m(\u001b[0m\u001b[0mdat_LFP\u001b[0m\u001b[0;34m[\u001b[0m\u001b[0;36m11\u001b[0m\u001b[0;34m]\u001b[0m\u001b[0;34m[\u001b[0m\u001b[0;34m'lfp'\u001b[0m\u001b[0;34m]\u001b[0m\u001b[0;34m)\u001b[0m\u001b[0;34m)\u001b[0m\u001b[0;34m:\u001b[0m\u001b[0;34m\u001b[0m\u001b[0;34m\u001b[0m\u001b[0m\n\u001b[0m\u001b[1;32m      4\u001b[0m   \u001b[0mplt\u001b[0m\u001b[0;34m.\u001b[0m\u001b[0mplot\u001b[0m\u001b[0;34m(\u001b[0m\u001b[0mdat_LFP\u001b[0m\u001b[0;34m[\u001b[0m\u001b[0;36m11\u001b[0m\u001b[0;34m]\u001b[0m\u001b[0;34m[\u001b[0m\u001b[0;34m'lfp'\u001b[0m\u001b[0;34m]\u001b[0m\u001b[0;34m[\u001b[0m\u001b[0marea\u001b[0m\u001b[0;34m]\u001b[0m\u001b[0;34m[\u001b[0m\u001b[0;36m0\u001b[0m\u001b[0;34m]\u001b[0m\u001b[0;34m,\u001b[0m \u001b[0;34m'K'\u001b[0m\u001b[0;34m,\u001b[0m \u001b[0malpha\u001b[0m \u001b[0;34m=\u001b[0m \u001b[0;36m0.2\u001b[0m\u001b[0;34m)\u001b[0m\u001b[0;34m\u001b[0m\u001b[0;34m\u001b[0m\u001b[0m\n\u001b[1;32m      5\u001b[0m \u001b[0;34m\u001b[0m\u001b[0m\n",
      "\u001b[0;31mNameError\u001b[0m: name 'dat_LFP' is not defined"
     ]
    }
   ],
   "source": [
    "import matplotlib.pyplot as plt\n",
    "\n",
    "for area in range(len(dat_LFP[11]['lfp'])):\n",
    "  plt.plot(dat_LFP[11]['lfp'][area][0], 'K', alpha = 0.2)\n",
    "\n",
    "plt.show()"
   ]
  },
  {
   "cell_type": "markdown",
   "metadata": {
    "id": "tMJ4ZdxfmBhB"
   },
   "source": [
    "# Time window code (Ronan)"
   ]
  },
  {
   "cell_type": "code",
   "execution_count": 69,
   "metadata": {
    "colab": {
     "base_uri": "https://localhost:8080/",
     "height": 248
    },
    "id": "XxIP_Fl_0EWF",
    "outputId": "c03fbefe-26c2-4955-a35a-7a87b1df44be",
    "scrolled": true
   },
   "outputs": [
    {
     "name": "stderr",
     "output_type": "stream",
     "text": [
      "/usr/local/lib/python3.7/dist-packages/ipykernel_launcher.py:25: VisibleDeprecationWarning: Creating an ndarray from ragged nested sequences (which is a list-or-tuple of lists-or-tuples-or ndarrays with different lengths or shapes) is deprecated. If you meant to do this, you must specify 'dtype=object' when creating the ndarray\n"
     ]
    },
    {
     "data": {
      "text/plain": [
       "<matplotlib.legend.Legend at 0x7f6ea9300d10>"
      ]
     },
     "execution_count": 69,
     "metadata": {
      "tags": []
     },
     "output_type": "execute_result"
    },
    {
     "data": {
      "image/png": "[encoded data removed]",
      "text/plain": [
       "<Figure size 1440x288 with 1 Axes>"
      ]
     },
     "metadata": {
      "needs_background": "light",
      "tags": []
     },
     "output_type": "display_data"
    }
   ],
   "source": [
    "# function to loop through trial data and create 2 x 1 array describing the time\n",
    "# point at which visual stimulus was displayed and a second event within the \n",
    "# trial (e.g. response, go cue onset). Option to keep units in seconds or change\n",
    "# to 10ms time bin format used by spike data\n",
    "\n",
    "def time_window_generator(start_window_variable, end_window_variable, spike_rate_format=True):\n",
    "  '''\n",
    "  Creates a time window on visual stim onset to later trial event\n",
    "\n",
    "  Args:\n",
    "    start_window_variable (float)               : fixed value for visual stim onset (s)\n",
    "    end_window_variable (numpy array of floats) : array of second event times per trial (s)\n",
    "    spike_rate_format (boolean)                 : boolean whether to calculate in 10ms bins\n",
    "  \n",
    "  Returns:\n",
    "    numpy array of floats\n",
    "\n",
    "  '''\n",
    "  number_trials = len(end_window_variable) #loop through number of trials per session\n",
    "  start_window = start_window_variable\n",
    "  time_window = np.zeros((number_trials, 2)) #initialize time_window variable\n",
    "  \n",
    "  \n",
    "  for trial in range(number_trials):\n",
    "    time_window[trial] = np.array([start_window, end_window_variable[trial]]) * 100\n",
    "    \n",
    "  if spike_rate_format:\n",
    "    time_window = np.round(time_window)\n",
    "\n",
    "\n",
    "  return time_window\n",
    "\n",
    "for session in range(len(alldat)):\n",
    "  \n",
    "  dat = alldat[session]\n",
    "  dat['stim_response_time_window'] = time_window_generator(dat['stim_onset'], dat['response_time'])\n",
    "  dat['stim_gocue_time_window'] = time_window_generator(dat['stim_onset'], dat['gocue'])\n",
    "  \n",
    "\n",
    "# example plot of time windows on single trial\n",
    "plt.plot(alldat[0]['spks'][670][0])\n",
    "plt.axvline(alldat[0]['stim_response_time_window'][0][0], color='blue', linewidth=5, label = 'visual stim')\n",
    "plt.axvline(alldat[0]['stim_response_time_window'][0][1], color='red', linewidth=5, label='response')\n",
    "plt.axvline(alldat[0]['stim_gocue_time_window'][0][1], color='green', linewidth=5, label='GO cue')\n",
    "plt.legend()\n",
    "\n",
    "\n",
    "\n",
    "\n",
    "\n",
    "\n"
   ]
  },
  {
   "cell_type": "markdown",
   "metadata": {},
   "source": [
    "# Accuracy Analysis (Phil)\n",
    "\n",
    "Defining a function to compute accuracy analysis\n",
    "\n"
   ]
  },
  {
   "cell_type": "code",
   "execution_count": null,
   "metadata": {},
   "outputs": [],
   "source": [
    "\n",
    "#Load a debugger\n",
    "from IPython.core.debugger import set_trace\n",
    "\n",
    "import numpy as np\n",
    "\n",
    "# Loading steinmetz data so that we don't have to download it every time.\n",
    "fname = [\"steinmetz_part1.npz\", \"steinmetz_part2.npz\", \"steinmetz_part3.npz\"]\n",
    "alldat = np.array([])\n",
    "for j in range(len(fname)):\n",
    "    alldat = np.hstack((alldat, np.load('steinmetz_part%d.npz'%j, allow_pickle=True)['dat']))\n",
    "\n",
    "def compute_accuracy(data = alldat, session = list(np.arange(0, 39, 1))):\n",
    "    \"\"\" \n",
    "    arguments:\n",
    "    session: a list of session numbers to evaluate.  Default is all session in dat.\n",
    "    \n",
    "    output:\n",
    "    accuracy: a session-length np.array of n-trial length arrays listing correct = 1, incorrect = 0\n",
    "    accuracy_pct: a percentage score of correct vs. incorrect trials\n",
    "    accuracy_move: a session-length np.array of arrays where movement was required\n",
    "    accuracy_pct_move: a percentage score of correct vs. incorrect trials when movement was required\n",
    "    indMove: index of trials where movement was supposed to happen within session\n",
    "    \"\"\"\n",
    "    accuracy_all = []\n",
    "    accuracy_move_all = []\n",
    "    accuracy_bool_all = []\n",
    "    accuracy_bool_move_all = []\n",
    "    indMove_all = []\n",
    "    \n",
    "    for i, run in enumerate(session):\n",
    "        # get relevant data\n",
    "        \n",
    "        #set_trace()\n",
    "        response = data[i]['response'] # right - nogo - left (-1, 0, 1)\n",
    "        vis_right = data[i]['contrast_right'] # 0 - low - high\n",
    "        vis_left = data[i]['contrast_left'] # 0 - low - high\n",
    "\n",
    "        #initialize empty boolean accuracy object\n",
    "        accuracy_bool = np.zeros(len(response))\n",
    "\n",
    "        # the following are the correct responses:\n",
    "        # if vis_left > vis_right : response >0\n",
    "        # if vis_left < vis_right : response <0\n",
    "        # if vis_left = vis_right : response =0\n",
    "        # trials below red line are incorrect\n",
    "        is_correct = np.sign(response)==np.sign(vis_left-vis_right)\n",
    "        accuracy_bool[is_correct] = 1\n",
    "        accuracy = np.sum(accuracy_bool)/len(accuracy_bool)\n",
    "\n",
    "        # Compute accuracy for only movement trials\n",
    "        indMove = np.logical_or(vis_right > vis_left, vis_left > vis_right)\n",
    "\n",
    "        # create vectors only of movement trials\n",
    "        response_move = response[indMove]\n",
    "        vis_right_move = vis_right[indMove]\n",
    "        vis_left_move = vis_left[indMove]\n",
    "\n",
    "        # compute accuracy only for movement trials\n",
    "        accuracy_bool_move = np.zeros(len(response_move))\n",
    "\n",
    "        is_correct_move = np.sign(response_move)==np.sign(vis_left_move - vis_right_move)\n",
    "        accuracy_bool_move[is_correct_move] = 1\n",
    "        accuracy_move = np.sum(accuracy_bool_move)/len(accuracy_bool_move)\n",
    "\n",
    "        #set_trace()\n",
    "        accuracy_all.append(accuracy)\n",
    "        accuracy_move_all.append(accuracy_move)\n",
    "        accuracy_bool_all.append(accuracy_bool)\n",
    "        accuracy_bool_move_all.append(accuracy_bool_move)\n",
    "        indMove_all.append(indMove)\n",
    "        \n",
    "    return([accuracy_all, accuracy_move_all, accuracy_bool_all, accuracy_bool_move_all, indMove])\n",
    "\n",
    "accuracy_all, accuracy_move_all, accuracy_bool_all, accuracy_bool_move_all, indMove = compute_accuracy()\n",
    "\n",
    "### Accuracy Plots\n",
    "\n",
    "Accuracy for each session\n",
    "\n",
    "import pandas as pd\n",
    "import matplotlib.pyplot as plt\n",
    "\n",
    "accuracy_data = pd.DataFrame({\"Session\": np.arange(0,39,1), \"Accuracy\": accuracy_all}, columns = [\"Session\", \"Accuracy\"])\n",
    "\n",
    "ordered_accuracy_data = accuracy_data.sort_values(\"Accuracy\", ignore_index = True)\n",
    "ordered_accuracy_data[\"xmin\"] = 0\n",
    "ordered_accuracy_data[\"xmax\"] = 0\n",
    "\n",
    "for i in range(0, len(ordered_accuracy_data)):\n",
    "    #set_trace()\n",
    "    if ordered_accuracy_data.loc[i, \"Accuracy\"] <= 0.50:\n",
    "        ordered_accuracy_data.loc[i, \"xmin\"] = ordered_accuracy_data.loc[i, \"Accuracy\"]\n",
    "        ordered_accuracy_data.loc[i, \"xmax\"] = 0.50\n",
    "    else:\n",
    "        ordered_accuracy_data.loc[i, \"xmin\"] = 0.50\n",
    "        ordered_accuracy_data.loc[i, \"xmax\"] = ordered_accuracy_data.loc[i, \"Accuracy\"]\n",
    "\n",
    "#print(ordered_accuracy_data)\n",
    "\n",
    "plt.figure(figsize=(12, 9), dpi=80)\n",
    "\n",
    "plt.hlines(y = range(0,len(ordered_accuracy_data)), xmin = ordered_accuracy_data[\"xmin\"], \\\n",
    "                     xmax = ordered_accuracy_data['Accuracy'], color = \"blue\", alpha= 0.4)\n",
    "plt.scatter(ordered_accuracy_data[\"Accuracy\"], range(0,len(ordered_accuracy_data)), \\\n",
    "                                                     color = \"blue\", s = 20, alpha=1)\n",
    "plt.vlines(x = 0.5, ymin = 0, ymax = len(ordered_accuracy_data), color = \"black\")\n",
    "#set_trace()\n",
    "for i, label in enumerate(ordered_accuracy_data[\"Session\"]):\n",
    "    #set_trace()\n",
    "    plt.annotate(label, (ordered_accuracy_data.loc[i, \"Accuracy\"], i))\n",
    " \n",
    "# Add title and axis names\n",
    "plt.title(\"Accuracy of all trials in each session\", loc='left')\n",
    "plt.xlabel('Accuracy')\n",
    "plt.ylabel('Session (ordered)')\n",
    "plt.xlim((0,1))\n",
    "plt.grid(1, alpha = 0.5)\n",
    "\n",
    "# show the graph\n",
    "plt.show()\n",
    "\n",
    "#set_trace()\n"
   ]
  }
 ],
 "metadata": {
  "colab": {
   "collapsed_sections": [],
   "include_colab_link": true,
   "name": "Copy of Steinmetz_exploration.ipynb",
   "provenance": [],
   "toc_visible": true
  },
  "kernelspec": {
   "display_name": "Python 3",
   "language": "python",
   "name": "python3"
  },
  "language_info": {
   "codemirror_mode": {
    "name": "ipython",
    "version": 3
   },
   "file_extension": ".py",
   "mimetype": "text/x-python",
   "name": "python",
   "nbconvert_exporter": "python",
   "pygments_lexer": "ipython3",
   "version": "3.8.8"
  }
 },
 "nbformat": 4,
 "nbformat_minor": 1
}
